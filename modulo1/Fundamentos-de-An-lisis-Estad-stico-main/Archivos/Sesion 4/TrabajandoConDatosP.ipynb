{
  "nbformat": 4,
  "nbformat_minor": 0,
  "metadata": {
    "colab": {
      "provenance": []
    },
    "kernelspec": {
      "name": "python3",
      "display_name": "Python 3"
    },
    "language_info": {
      "name": "python"
    }
  },
  "cells": [
    {
      "cell_type": "markdown",
      "source": [
        "# Trabajando con Datos en el Entorno de Ejecución (Python)\n",
        "\n",
        "Chequeemos la versión"
      ],
      "metadata": {
        "id": "C7pq0fQUNUgB"
      }
    },
    {
      "cell_type": "code",
      "execution_count": null,
      "metadata": {
        "id": "Mg0Walm5MyBb"
      },
      "outputs": [],
      "source": [
        "import sys\n",
        "print(sys.version)"
      ]
    },
    {
      "cell_type": "code",
      "source": [
        "!python --version"
      ],
      "metadata": {
        "id": "TYePiL_tN9ll"
      },
      "execution_count": null,
      "outputs": []
    },
    {
      "cell_type": "markdown",
      "source": [
        "##Palabras y Frases\n",
        "\n",
        "A diferencia de los lenguajes humanos, el vocabulario de Python es en realidad bastante reducido. Llamamos a este “vocabulario” las “palabras reservadas”. Se trata de palabras que tienen un significado muy especial para Python. Cuando Python se encuentra estas palabras en un programa, sabe que sólo tienen un único significado para él.\n",
        "\n",
        "Las palabras reservadas en el lenguaje que utilizan los humanos para hablar con\n",
        "Python son, entre otras, las siguientes:\n",
        "\n",
        "```\n",
        "and      del     global   not      with\n",
        "as       elif    if       or       yield\n",
        "assert   else    import   pass\n",
        "break    except  in       raise\n",
        "class    finally is       return\n",
        "continue for     lambda   try\n",
        "def      from    nonlocal while\n",
        "```\n",
        "\n",
        "Por ejemplo, frente a la orden `print`, Python _imprimirá_ lo que le indiquemos:"
      ],
      "metadata": {
        "id": "crjJV-CJObso"
      }
    },
    {
      "cell_type": "code",
      "source": [
        "# El clásico primer ejemplo\n",
        "print('Hello World!')"
      ],
      "metadata": {
        "id": "ZuagcPUKOeyN"
      },
      "execution_count": null,
      "outputs": []
    },
    {
      "cell_type": "code",
      "source": [
        "print('¡Hola Mundo!')"
      ],
      "metadata": {
        "id": "KrRU7WIMOi-A"
      },
      "execution_count": null,
      "outputs": []
    },
    {
      "cell_type": "markdown",
      "source": [
        "<h2>¿Qué podemos revisar?</h2>\n",
        "\n",
        "Podemos revisar cuál versión de Python tenemos (pero eso ya lo sabíamos)"
      ],
      "metadata": {
        "id": "lr-g7zPUOoBS"
      }
    },
    {
      "cell_type": "code",
      "source": [
        "!python --version"
      ],
      "metadata": {
        "id": "jeYG_ynQOnyo"
      },
      "execution_count": null,
      "outputs": []
    },
    {
      "cell_type": "markdown",
      "source": [
        "Podemos revisar las librerías disponibles."
      ],
      "metadata": {
        "id": "L1wCvc1FOvUn"
      }
    },
    {
      "cell_type": "code",
      "source": [
        "!pip list -v"
      ],
      "metadata": {
        "id": "RtDiZbUeOu2W"
      },
      "execution_count": null,
      "outputs": []
    },
    {
      "cell_type": "markdown",
      "source": [
        "Podemos instalar librerías"
      ],
      "metadata": {
        "id": "a9FA_zgdPs7Y"
      }
    },
    {
      "cell_type": "code",
      "source": [
        "!pip install advertools"
      ],
      "metadata": {
        "id": "nEiIn4y2O5LV"
      },
      "execution_count": null,
      "outputs": []
    },
    {
      "cell_type": "markdown",
      "source": [
        "Podemos conectarnos al drive de google de una manera sencilla"
      ],
      "metadata": {
        "id": "Dq0_5bndPkIy"
      }
    },
    {
      "cell_type": "code",
      "source": [
        "from google.colab import drive\n",
        "drive.mount('/content/drive')"
      ],
      "metadata": {
        "id": "owSOEQXLPdgv"
      },
      "execution_count": null,
      "outputs": []
    },
    {
      "cell_type": "markdown",
      "source": [
        "Es necesario revisar muy bien la sintaxis para comprender los errores:"
      ],
      "metadata": {
        "id": "eojMJnLUP9fn"
      }
    },
    {
      "cell_type": "code",
      "source": [
        "print 'Imprimamos esto'"
      ],
      "metadata": {
        "id": "_GPdFqCqP2Ne"
      },
      "execution_count": null,
      "outputs": []
    },
    {
      "cell_type": "code",
      "source": [
        "print('Imprimamos esto')"
      ],
      "metadata": {
        "id": "IvIa9fR2P5Ns"
      },
      "execution_count": null,
      "outputs": []
    },
    {
      "cell_type": "markdown",
      "source": [
        "Necesitamos definir los objetos si queremos llamarlos"
      ],
      "metadata": {
        "id": "RKAuhxDNQBK_"
      }
    },
    {
      "cell_type": "code",
      "source": [
        "x"
      ],
      "metadata": {
        "id": "7DhpDGG0QBry"
      },
      "execution_count": null,
      "outputs": []
    },
    {
      "cell_type": "code",
      "source": [
        "x = [1,2,3,5]\n",
        "x"
      ],
      "metadata": {
        "id": "sxEd876dQHYl"
      },
      "execution_count": null,
      "outputs": []
    },
    {
      "cell_type": "markdown",
      "source": [
        "Se pueden comenter muchos errores programando, los errores más comunes son:\n",
        "\n",
        "*Errores de sintaxis (Syntax errors)*"
      ],
      "metadata": {
        "id": "YFCKXHCbQLdK"
      }
    },
    {
      "cell_type": "code",
      "source": [
        "primt '¡Hola, mundo!'"
      ],
      "metadata": {
        "id": "yYvaMSiBQOGd"
      },
      "execution_count": null,
      "outputs": []
    },
    {
      "cell_type": "markdown",
      "source": [
        "*Errores lógicos: la sintaxis es correcta pero el orden de las sentencias está mal*"
      ],
      "metadata": {
        "id": "6NJERPVqQY4m"
      }
    },
    {
      "cell_type": "code",
      "source": [
        "+ x"
      ],
      "metadata": {
        "id": "EZyyTIO8QQdK"
      },
      "execution_count": null,
      "outputs": []
    },
    {
      "cell_type": "markdown",
      "source": [
        "*Errores semánticos: la descripción es sintácticamente correcta y está en el orden correcto, pero sencillamente hay un error en el programa*"
      ],
      "metadata": {
        "id": "4sk-2qnoQWat"
      }
    },
    {
      "cell_type": "code",
      "source": [
        "print(1,000,000)"
      ],
      "metadata": {
        "id": "LYfAA5sbQSyJ"
      },
      "execution_count": null,
      "outputs": []
    },
    {
      "cell_type": "markdown",
      "source": [
        "Un primer vocabulario\n",
        "\n",
        "- **bug** Un error en un programa.\n",
        "- **código fuente** Un programa en un lenguaje de alto nivel.\n",
        "- **código máquina** El lenguaje de más bajo nivel para el software, es decir,\n",
        "el lenguaje que es directamente ejecutado por la unidad central de\n",
        "procesamiento (CPU).\n",
        "- **compilar** Traducir un programa completo escrito en un lenguaje de alto nivel a\n",
        "un lenguaje de bajo nivel, para dejarlo listo para una ejecución posterior.\n",
        "- **error semántico** Un error dentro de un programa que provoca que haga algo\n",
        "diferente de lo que pretendía el programador.\n",
        "- **función print** Una instrucción que hace que el intérprete de Python muestre un\n",
        "valor en la pantalla.\n",
        "- **indicador de línea de comandos (prompt)** Cuando un programa muestra un\n",
        "mensaje y se detiene para que el usuario teclee algún tipo de dato.\n",
        "- **interpretar** Ejecutar un programa escrito en un lenguaje de alto nivel traduciéndolo\n",
        "línea a línea.\n",
        "- **lenguaje de alto nivel** Un lenguaje de programación como Python, que ha sido\n",
        "diseñado para que sea fácil de leer y escribir por las personas.\n",
        "- **lenguaje de bajo nivel** Un lenguaje de programación que está diseñado para ser\n",
        "fácil de ejecutar para una computadora; también recibe el nombre de “código\n",
        "máquina”, “lenguaje máquina” o “lenguaje ensamblador”.\n",
        "- **memoria principal** Almacena los programas y datos. La memoria principal\n",
        "pierde su información cuando se desconecta la alimentación.\n",
        "- **memoria secundaria** Almacena los programas y datos y mantiene su información\n",
        "incluso cuando se interrumpe la alimentación. Es generalmente más\n",
        "lenta que la memoria principal. Algunos ejemplos de memoria secundaria\n",
        "son las unidades de disco y memorias flash que se encuentran dentro de los\n",
        "dispositivos USB.\n",
        "- **modo interactivo** Un modo de usar el intérprete de Python, escribiendo comandos\n",
        "y expresiones directamente en el indicador de la línea de comandos.\n",
        "- **parsear** Examinar un programa y analizar la estructura sintáctica.\n",
        "- **portabilidad** Es la propiedad que poseen los programas que pueden funcionar en\n",
        "más de un tipo de computadora.\n",
        "- **programa** Un conjunto de instrucciones que indican cómo realizar algún tipo de\n",
        "cálculo.\n",
        "- **resolución de un problema** El proceso de formular un problema, encontrar una\n",
        "solución, y mostrar esa solución.\n",
        "- **semántica** El significado de un programa.\n",
        "- **unidad central de procesamiento** El corazón de cualquier computadora. Es\n",
        "lo que ejecuta el software que escribimos. También recibe el nombre de\n",
        "“CPU” por sus siglas en inglés (Central Processsing Unit), o simplemente,\n",
        "“el procesador”."
      ],
      "metadata": {
        "id": "kturGiOEQkBn"
      }
    },
    {
      "cell_type": "markdown",
      "source": [
        "Podemos hacer operaciones entre objetos (en eso se profundizará en el módulo correspondiente)"
      ],
      "metadata": {
        "id": "1qdtcg8OQprY"
      }
    },
    {
      "cell_type": "code",
      "source": [
        "x = 43\n",
        "x = x + 1\n",
        "print(x)"
      ],
      "metadata": {
        "id": "hJI5ytfGQlAi"
      },
      "execution_count": null,
      "outputs": []
    },
    {
      "cell_type": "markdown",
      "source": [
        "<h2>Variables, expresiones y sentencias</h2>\n",
        "\n",
        "<h3>Valores y Tipos</h3>\n",
        "\n",
        "- Un valor es una de las cosas básicas que utiliza un programa, como una letra o un\n",
        "número.\n",
        "- Un tipo es la clasificación del valor\n",
        "\n",
        "El intérprete de Python nos puede indicar el tipo de valor que tenemos:"
      ],
      "metadata": {
        "id": "XTAs_LdzQ0W_"
      }
    },
    {
      "cell_type": "code",
      "source": [
        "type('¡Hola, mundo!')"
      ],
      "metadata": {
        "id": "yWLv8dxVQ1K1"
      },
      "execution_count": null,
      "outputs": []
    },
    {
      "cell_type": "code",
      "source": [
        "type(4)"
      ],
      "metadata": {
        "id": "dIxqwI8xQ4Io"
      },
      "execution_count": null,
      "outputs": []
    },
    {
      "cell_type": "code",
      "source": [
        "type(x)"
      ],
      "metadata": {
        "id": "RX314IHEQ6aM"
      },
      "execution_count": null,
      "outputs": []
    },
    {
      "cell_type": "code",
      "source": [
        "type(3.2)"
      ],
      "metadata": {
        "id": "c-f_L2YrQ9pG"
      },
      "execution_count": null,
      "outputs": []
    },
    {
      "cell_type": "code",
      "source": [
        "type('17')"
      ],
      "metadata": {
        "id": "JFNgLNOqRCsh"
      },
      "execution_count": null,
      "outputs": []
    },
    {
      "cell_type": "markdown",
      "source": [
        "Importante para no cometer errores semánticos o de sintaxis: no usar separadores de miles en los números grandes y utilizar el punto (.) como separador de decimales"
      ],
      "metadata": {
        "id": "UIz0lscwRFYI"
      }
    },
    {
      "cell_type": "code",
      "source": [
        "print(1,000,000)\n",
        "print(1000000)"
      ],
      "metadata": {
        "id": "xWKRP47aRGMy"
      },
      "execution_count": null,
      "outputs": []
    },
    {
      "cell_type": "code",
      "source": [
        "print(1.000.000)"
      ],
      "metadata": {
        "id": "7Qcst6AtRI_5"
      },
      "execution_count": null,
      "outputs": []
    },
    {
      "cell_type": "markdown",
      "source": [
        "<h3>Variables</h3>\n",
        "Una variable es un nombre que se refiere a un valor. Una sentencia de asignación crea variables nuevas y las da valores:"
      ],
      "metadata": {
        "id": "jRMHYQYKRL3m"
      }
    },
    {
      "cell_type": "code",
      "source": [
        "mensaje = 'Y ahora algo completamente diferente'\n",
        "n = 17\n",
        "pi = 3.1415926535897931"
      ],
      "metadata": {
        "id": "PBe0YVO1RM7a"
      },
      "execution_count": 30,
      "outputs": []
    },
    {
      "cell_type": "markdown",
      "source": [
        "```\n",
        "# Esto tiene formato de código\n",
        "```\n",
        "\n",
        "Para conocer el valor de la variable, se puede usar la función `print` y `type` para conocer el tipo"
      ],
      "metadata": {
        "id": "7xPdxdHwRTyg"
      }
    },
    {
      "cell_type": "code",
      "source": [
        "print(mensaje)\n",
        "type(mensaje)"
      ],
      "metadata": {
        "id": "klnoujCJRU7A"
      },
      "execution_count": null,
      "outputs": []
    },
    {
      "cell_type": "code",
      "source": [
        "print(n)\n",
        "type(n)"
      ],
      "metadata": {
        "id": "On3gJ7qcRl7-"
      },
      "execution_count": null,
      "outputs": []
    },
    {
      "cell_type": "code",
      "source": [
        "print(pi)\n",
        "type(pi)"
      ],
      "metadata": {
        "id": "2uASrUdvRrDm"
      },
      "execution_count": null,
      "outputs": []
    },
    {
      "cell_type": "markdown",
      "source": [
        "## Nombres de variables y palabras claves\n",
        "\n",
        "Los programadores generalmente eligen nombres para sus variables que tengan sentido y documenten para qué se usa esa variable.\n",
        "\n",
        "Los nombres de las variables pueden ser arbitrariamente largos. Pueden contener tanto letras como números, pero no pueden comenzar con un número. Se pueden usar letras mayúsculas, pero es buena idea comenzar los nombres de las variables con una letras minúscula.\n",
        "\n",
        "El carácter guión-bajo (_) puede utilizarse en un nombre. A menudo se utiliza en nombres con múltiples palabras, como en mi_nombre o `velocidad_de_golondrina_sin_carga`. Los nombres de las variables pueden comenzar con un carácter guión-bajo, pero generalmente se evita usarlo así a menos que se esté escribiendo código para librerías que luego utilizarán otros.\n",
        "\n",
        "Si se le da a una variable un nombre no permitido, se obtiene un error de sintaxis:"
      ],
      "metadata": {
        "id": "h24w5p4wUFZa"
      }
    },
    {
      "cell_type": "code",
      "source": [
        "76trombones = 'gran desfile'"
      ],
      "metadata": {
        "id": "UoIDuBAoUWFk"
      },
      "execution_count": null,
      "outputs": []
    },
    {
      "cell_type": "code",
      "source": [
        "more@ = 1000000"
      ],
      "metadata": {
        "id": "1_9oVjoZUkOv"
      },
      "execution_count": null,
      "outputs": []
    },
    {
      "cell_type": "code",
      "source": [
        "class = 'Teorema avanzado de Zymurgy'"
      ],
      "metadata": {
        "id": "53MmjmXGUnMX"
      },
      "execution_count": null,
      "outputs": []
    },
    {
      "cell_type": "markdown",
      "source": [
        "## Sentencias\n",
        "\n",
        "Una _sentencia_ es una unidad de código que Python (el intérprete) puede ejecutar:"
      ],
      "metadata": {
        "id": "vkO2ZNf7U1JM"
      }
    },
    {
      "cell_type": "code",
      "source": [
        "print(1)\n",
        "x = 2\n",
        "print(x)"
      ],
      "metadata": {
        "id": "ptq0koenU-6R"
      },
      "execution_count": null,
      "outputs": []
    },
    {
      "cell_type": "markdown",
      "source": [
        "## Operadores\n",
        "\n",
        "Son símbolos especiales que representan cálculos:"
      ],
      "metadata": {
        "id": "-IQqsgQyVJ35"
      }
    },
    {
      "cell_type": "code",
      "source": [
        "# Suma\n",
        "20+32"
      ],
      "metadata": {
        "id": "plxklv0gVP3J"
      },
      "execution_count": null,
      "outputs": []
    },
    {
      "cell_type": "code",
      "source": [
        "# Resta\n",
        "hour = 60\n",
        "hour-1"
      ],
      "metadata": {
        "id": "XFv3OjQjVXSc"
      },
      "execution_count": null,
      "outputs": []
    },
    {
      "cell_type": "code",
      "source": [
        "# Multiplicación\n",
        "minute = 59\n",
        "hour*60 + minute"
      ],
      "metadata": {
        "id": "_WJhgHjyVcDo"
      },
      "execution_count": null,
      "outputs": []
    },
    {
      "cell_type": "code",
      "source": [
        "# División\n",
        "minute/60"
      ],
      "metadata": {
        "id": "_9wITYJkVhIF"
      },
      "execution_count": null,
      "outputs": []
    },
    {
      "cell_type": "code",
      "source": [
        "## Potenciación\n",
        "5**2"
      ],
      "metadata": {
        "id": "XEtSJ2RVVjzI"
      },
      "execution_count": null,
      "outputs": []
    },
    {
      "cell_type": "code",
      "source": [
        "2**3"
      ],
      "metadata": {
        "id": "9xDpcgUAV5o9"
      },
      "execution_count": null,
      "outputs": []
    },
    {
      "cell_type": "code",
      "source": [
        "# Podemos combinar operadores para definir operaciones mas complejas\n",
        "(5+9)*(15-7)"
      ],
      "metadata": {
        "id": "mr004Q2MV8em"
      },
      "execution_count": null,
      "outputs": []
    },
    {
      "cell_type": "code",
      "source": [
        "# DIvisión entera\n",
        "minute//60"
      ],
      "metadata": {
        "id": "yBI96xSSV_Bt"
      },
      "execution_count": null,
      "outputs": []
    },
    {
      "cell_type": "markdown",
      "source": [
        "# Abriendo archivos\n",
        "\n",
        "Son varios los tipos de archivos que podemos cargar, aunque las últimas actualizaciones de Python han incorporado restricciones a algunas extensiones (p.ej. los archivos generados por otros programas de procesamientos de datos como stata o spss o sas pueden presentar dificultades al momentos de importarlos)"
      ],
      "metadata": {
        "id": "WfE-OpEzYBaS"
      }
    },
    {
      "cell_type": "code",
      "source": [
        "# veamos dónde estamos ubicados\n",
        "import os\n",
        "os.getcwd()"
      ],
      "metadata": {
        "id": "e1YGE8OpZiS-"
      },
      "execution_count": null,
      "outputs": []
    },
    {
      "cell_type": "code",
      "source": [
        "# Podemos cambiar el directorio\n",
        "os.chdir('/content/Archivos')"
      ],
      "metadata": {
        "id": "aU_uAZeSZ0Uw"
      },
      "execution_count": 61,
      "outputs": []
    },
    {
      "cell_type": "code",
      "source": [
        "os.getcwd()"
      ],
      "metadata": {
        "id": "ZhG1j6AgafCB"
      },
      "execution_count": null,
      "outputs": []
    },
    {
      "cell_type": "code",
      "source": [
        "## Archivo plano txt\n",
        "import numpy as np\n",
        "filename = 'datos.txt'\n",
        "datatxt = np.loadtxt(filename, delimiter='\\t', dtype=str)\n",
        "print(datatxt)"
      ],
      "metadata": {
        "id": "VxjwDtIBYhlc"
      },
      "execution_count": null,
      "outputs": []
    },
    {
      "cell_type": "code",
      "source": [
        "import pandas as pd\n",
        "datacsv = pd.read_csv('datos.csv')\n",
        "print(datacsv)"
      ],
      "metadata": {
        "id": "wC2_FpxjZzjJ"
      },
      "execution_count": null,
      "outputs": []
    },
    {
      "cell_type": "code",
      "source": [
        "# Excel\n",
        "import pandas as pd\n",
        "file = 'datos.xlsx' \n",
        "dataexcel = pd.ExcelFile(file)\n",
        "print(dataexcel)"
      ],
      "metadata": {
        "id": "eYHb-EMjbigU"
      },
      "execution_count": null,
      "outputs": []
    },
    {
      "cell_type": "code",
      "source": [
        "# Stata\n",
        "import pandas as pd\n",
        "datastata = pd.read_stata('datosStata.dta')\n",
        "print(datastata)"
      ],
      "metadata": {
        "id": "D9b9MBNpcFz0"
      },
      "execution_count": null,
      "outputs": []
    },
    {
      "cell_type": "code",
      "source": [
        "# SPSS\n",
        "dataspss = pd.read_spss('./contet/Archivos/DatosSPSS.sav')\n",
        "type(dataspps)"
      ],
      "metadata": {
        "id": "PbaOoxCmenr3"
      },
      "execution_count": null,
      "outputs": []
    },
    {
      "cell_type": "code",
      "source": [
        "!pip install pyreadstat"
      ],
      "metadata": {
        "id": "WhosoXo7fYna"
      },
      "execution_count": null,
      "outputs": []
    },
    {
      "cell_type": "code",
      "source": [
        "# SPSS\n",
        "import pyreadstat\n",
        "dataspss = pyreadstat.read_sav('DatosSPSS.sav')\n",
        "type(dataspss)"
      ],
      "metadata": {
        "id": "CNeD8SQefdKC"
      },
      "execution_count": null,
      "outputs": []
    },
    {
      "cell_type": "markdown",
      "source": [
        "## Convertir los datos en un objeto\n",
        "\n",
        "Podemos convertir los datos que tenemos en un tipo específico de objeto"
      ],
      "metadata": {
        "id": "UcFLhNeCcimX"
      }
    },
    {
      "cell_type": "code",
      "source": [
        "# Lo más práctico, en un data frame\n",
        "type(datatxt)"
      ],
      "metadata": {
        "id": "vBt53mA6cvlg"
      },
      "execution_count": null,
      "outputs": []
    },
    {
      "cell_type": "code",
      "source": [
        "import pandas as pd\n",
        "df = pd.DataFrame(data=datatxt)\n",
        "df.head()"
      ],
      "metadata": {
        "id": "9dW2vHj8dKmh"
      },
      "execution_count": null,
      "outputs": []
    },
    {
      "cell_type": "code",
      "source": [
        "type(dataexcel)"
      ],
      "metadata": {
        "id": "hNNzIgFrdgrQ"
      },
      "execution_count": null,
      "outputs": []
    },
    {
      "cell_type": "code",
      "source": [
        "dataexcel.sheet_names"
      ],
      "metadata": {
        "id": "gUsl_XiheAuv"
      },
      "execution_count": null,
      "outputs": []
    },
    {
      "cell_type": "code",
      "source": [
        "dfexcel = dataexcel.parse(\"datos\")\n",
        "dfexcel.head()"
      ],
      "metadata": {
        "id": "-_kdXsF_eHnn"
      },
      "execution_count": null,
      "outputs": []
    }
  ]
}