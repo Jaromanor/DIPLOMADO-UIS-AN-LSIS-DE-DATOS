{
 "cells": [
  {
   "cell_type": "markdown",
   "metadata": {},
   "source": [
    "# Importación de Datos\n",
    "\n",
    "Existen varios formatos que contienen las bases de datos, R puede trabajar con el 95% de las extensiones de archivo existentes: archivo de texto, stata, spss, matlab, minitab, excel, exportado desde sas, etc. Realizaremos el ejercicio con las extensiones más comunes.\n",
    "\n",
    "Antes de empezar a trabajar es necesario seleccionar el directorio de trabajo, esto se hace con la orden setwd(). La linea de comandos quedaría de la siguiente forma:\n",
    "\n",
    "`setwd(\"~/GitHub/importacion\")`\n",
    "\n",
    "En este caso, estamos moviéndonos en un subdirectorio con profundidad de segundo nivel dentro del directorio original de trabajo. Si se quiere cambiar por completo la ubicación del directorio de trabajo es necesario escribir la ruta completa. Por ejemplo, si queremos movernos a un directorio llamado \"llaves\" ubicado en la partición \"D\" se escribe:\n",
    "\n",
    "`setwd(\"~D:/llaves\")`\n",
    "\n",
    "Lo anterior se usa cuando se quiere que mediante el script se ubique el directorio de trabajo. Si el usuario quiere hacerlo manualmente puede recurrir en el menú contextual a la opción Archivo/Cambia dir...\n",
    "\n",
    "Veamos ahora las extensiones de archivo que, comúnmente nos encontramos."
   ]
  },
  {
   "cell_type": "markdown",
   "metadata": {},
   "source": [
    "## Archivos de Texto\n",
    "\n",
    "Los archivos de texto son los que se guardan en documentos tipo block de notas. Su extensión es `*.txt`. Son comunes a todos los sistemas operativos y no poseen propietario por lo que es posible trabajar con ellos sin inconvenientes de compatibilidad o licencia. El comando para realizar al importación es `read.table()` . Para saber cuáles son los argumentos completos se puede emplear `args(read.table)` y podremos ver cómo se define el comando. Los elementos que encontramos son:\n",
    "\n",
    "`Nombre con el que se identifica el conjunto de datos<- read.table(\"nombre del archivo.txt\", header=TRUE, sep=\"\\t\", na.strings=\"NA\", dec=\".\", strip.white=TRUE)`\n",
    "\n",
    "Es decir, si queremos cargar un conjunto de datos al que llamaremos **Texto** usando un archivo denominado `datos.txt` la línea de comandos queda:"
   ]
  },
  {
   "cell_type": "code",
   "execution_count": 1,
   "metadata": {},
   "outputs": [],
   "source": [
    "Texto <- read.table(\"datos.txt\", header=TRUE, sep=\"\\t\", na.strings=\"NA\", dec=\".\", strip.white=TRUE)"
   ]
  },
  {
   "cell_type": "markdown",
   "metadata": {},
   "source": [
    "Si queremos saber cómo quedan configurados los datos podemos escribir"
   ]
  },
  {
   "cell_type": "code",
   "execution_count": 2,
   "metadata": {},
   "outputs": [
    {
     "data": {
      "text/html": [
       "<table class=\"dataframe\">\n",
       "<caption>A data.frame: 6 × 6</caption>\n",
       "<thead>\n",
       "\t<tr><th></th><th scope=col>country</th><th scope=col>country.isocode</th><th scope=col>year</th><th scope=col>POP</th><th scope=col>ppp</th><th scope=col>cgnp</th></tr>\n",
       "\t<tr><th></th><th scope=col>&lt;chr&gt;</th><th scope=col>&lt;chr&gt;</th><th scope=col>&lt;int&gt;</th><th scope=col>&lt;dbl&gt;</th><th scope=col>&lt;dbl&gt;</th><th scope=col>&lt;dbl&gt;</th></tr>\n",
       "</thead>\n",
       "<tbody>\n",
       "\t<tr><th scope=row>1</th><td>France</td><td>FRA</td><td>2000</td><td>61136.52</td><td>0.9140463</td><td>101.3730</td></tr>\n",
       "\t<tr><th scope=row>2</th><td>France</td><td>FRA</td><td>2001</td><td>61479.30</td><td>0.9103722</td><td>101.1844</td></tr>\n",
       "\t<tr><th scope=row>3</th><td>France</td><td>FRA</td><td>2002</td><td>61828.99</td><td>0.9105602</td><td>100.2736</td></tr>\n",
       "\t<tr><th scope=row>4</th><td>France</td><td>FRA</td><td>2003</td><td>62171.39</td><td>0.9079510</td><td>100.6268</td></tr>\n",
       "\t<tr><th scope=row>5</th><td>France</td><td>FRA</td><td>2004</td><td>62534.16</td><td>0.8972155</td><td>100.7924</td></tr>\n",
       "\t<tr><th scope=row>6</th><td>France</td><td>FRA</td><td>2005</td><td>62911.52</td><td>0.8858009</td><td>100.6463</td></tr>\n",
       "</tbody>\n",
       "</table>\n"
      ],
      "text/latex": [
       "A data.frame: 6 × 6\n",
       "\\begin{tabular}{r|llllll}\n",
       "  & country & country.isocode & year & POP & ppp & cgnp\\\\\n",
       "  & <chr> & <chr> & <int> & <dbl> & <dbl> & <dbl>\\\\\n",
       "\\hline\n",
       "\t1 & France & FRA & 2000 & 61136.52 & 0.9140463 & 101.3730\\\\\n",
       "\t2 & France & FRA & 2001 & 61479.30 & 0.9103722 & 101.1844\\\\\n",
       "\t3 & France & FRA & 2002 & 61828.99 & 0.9105602 & 100.2736\\\\\n",
       "\t4 & France & FRA & 2003 & 62171.39 & 0.9079510 & 100.6268\\\\\n",
       "\t5 & France & FRA & 2004 & 62534.16 & 0.8972155 & 100.7924\\\\\n",
       "\t6 & France & FRA & 2005 & 62911.52 & 0.8858009 & 100.6463\\\\\n",
       "\\end{tabular}\n"
      ],
      "text/markdown": [
       "\n",
       "A data.frame: 6 × 6\n",
       "\n",
       "| <!--/--> | country &lt;chr&gt; | country.isocode &lt;chr&gt; | year &lt;int&gt; | POP &lt;dbl&gt; | ppp &lt;dbl&gt; | cgnp &lt;dbl&gt; |\n",
       "|---|---|---|---|---|---|---|\n",
       "| 1 | France | FRA | 2000 | 61136.52 | 0.9140463 | 101.3730 |\n",
       "| 2 | France | FRA | 2001 | 61479.30 | 0.9103722 | 101.1844 |\n",
       "| 3 | France | FRA | 2002 | 61828.99 | 0.9105602 | 100.2736 |\n",
       "| 4 | France | FRA | 2003 | 62171.39 | 0.9079510 | 100.6268 |\n",
       "| 5 | France | FRA | 2004 | 62534.16 | 0.8972155 | 100.7924 |\n",
       "| 6 | France | FRA | 2005 | 62911.52 | 0.8858009 | 100.6463 |\n",
       "\n"
      ],
      "text/plain": [
       "  country country.isocode year POP      ppp       cgnp    \n",
       "1 France  FRA             2000 61136.52 0.9140463 101.3730\n",
       "2 France  FRA             2001 61479.30 0.9103722 101.1844\n",
       "3 France  FRA             2002 61828.99 0.9105602 100.2736\n",
       "4 France  FRA             2003 62171.39 0.9079510 100.6268\n",
       "5 France  FRA             2004 62534.16 0.8972155 100.7924\n",
       "6 France  FRA             2005 62911.52 0.8858009 100.6463"
      ]
     },
     "metadata": {},
     "output_type": "display_data"
    }
   ],
   "source": [
    "head(Texto)"
   ]
  },
  {
   "cell_type": "markdown",
   "metadata": {},
   "source": [
    "## Archivos de SPSS\n",
    "\n",
    "Otro tipo de archivo que es factible encontrar son los generados mediante SPSS. Su extensión es `*.sav`. Para importarlo, necesitamos una librería llamada `heaving`, (Si la librería no está disponible hay que proceder a instalarla. En la clase se explicará cómo instalar una librería) para emplearla se escribe:"
   ]
  },
  {
   "cell_type": "code",
   "execution_count": 4,
   "metadata": {},
   "outputs": [],
   "source": [
    "library(haven)\n",
    "spss <- read_sav(\"DatosSPSS.sav\")\n",
    "colnames(spss) <- tolower(colnames(spss))"
   ]
  },
  {
   "cell_type": "markdown",
   "metadata": {},
   "source": [
    "Es decir, hemos creado un conjunto de datos llamado `spss` y le hemos asignado a las columnas el mismo nombre que el archivo original llamado `DatosSPSS.sav`. Del mismo modo, si queremos conocer la conformación del conjunto de datos podemos escribir:"
   ]
  },
  {
   "cell_type": "code",
   "execution_count": 5,
   "metadata": {},
   "outputs": [
    {
     "data": {
      "text/html": [
       "<table class=\"dataframe\">\n",
       "<caption>A tibble: 6 × 6</caption>\n",
       "<thead>\n",
       "\t<tr><th scope=col>nom</th><th scope=col>eda</th><th scope=col>alt</th><th scope=col>pes</th><th scope=col>sex</th><th scope=col>bday</th></tr>\n",
       "\t<tr><th scope=col>&lt;chr&gt;</th><th scope=col>&lt;dbl&gt;</th><th scope=col>&lt;dbl&gt;</th><th scope=col>&lt;dbl&gt;</th><th scope=col>&lt;dbl+lbl&gt;</th><th scope=col>&lt;date&gt;</th></tr>\n",
       "</thead>\n",
       "<tbody>\n",
       "\t<tr><td>Laura </td><td>25</td><td>167</td><td>65</td><td>2</td><td>1989-11-12</td></tr>\n",
       "\t<tr><td>Maria </td><td>21</td><td>160</td><td>57</td><td>2</td><td>1990-01-01</td></tr>\n",
       "\t<tr><td>Pedro </td><td>23</td><td>178</td><td>83</td><td>1</td><td>1996-02-29</td></tr>\n",
       "\t<tr><td>Josep </td><td>29</td><td>170</td><td>69</td><td>1</td><td>1981-03-02</td></tr>\n",
       "\t<tr><td>Martha</td><td>23</td><td>163</td><td>65</td><td>2</td><td>1984-12-31</td></tr>\n",
       "\t<tr><td>Jordi </td><td>19</td><td>185</td><td>90</td><td>1</td><td>1967-02-22</td></tr>\n",
       "</tbody>\n",
       "</table>\n"
      ],
      "text/latex": [
       "A tibble: 6 × 6\n",
       "\\begin{tabular}{llllll}\n",
       " nom & eda & alt & pes & sex & bday\\\\\n",
       " <chr> & <dbl> & <dbl> & <dbl> & <dbl+lbl> & <date>\\\\\n",
       "\\hline\n",
       "\t Laura  & 25 & 167 & 65 & 2 & 1989-11-12\\\\\n",
       "\t Maria  & 21 & 160 & 57 & 2 & 1990-01-01\\\\\n",
       "\t Pedro  & 23 & 178 & 83 & 1 & 1996-02-29\\\\\n",
       "\t Josep  & 29 & 170 & 69 & 1 & 1981-03-02\\\\\n",
       "\t Martha & 23 & 163 & 65 & 2 & 1984-12-31\\\\\n",
       "\t Jordi  & 19 & 185 & 90 & 1 & 1967-02-22\\\\\n",
       "\\end{tabular}\n"
      ],
      "text/markdown": [
       "\n",
       "A tibble: 6 × 6\n",
       "\n",
       "| nom &lt;chr&gt; | eda &lt;dbl&gt; | alt &lt;dbl&gt; | pes &lt;dbl&gt; | sex &lt;dbl+lbl&gt; | bday &lt;date&gt; |\n",
       "|---|---|---|---|---|---|\n",
       "| Laura  | 25 | 167 | 65 | 2 | 1989-11-12 |\n",
       "| Maria  | 21 | 160 | 57 | 2 | 1990-01-01 |\n",
       "| Pedro  | 23 | 178 | 83 | 1 | 1996-02-29 |\n",
       "| Josep  | 29 | 170 | 69 | 1 | 1981-03-02 |\n",
       "| Martha | 23 | 163 | 65 | 2 | 1984-12-31 |\n",
       "| Jordi  | 19 | 185 | 90 | 1 | 1967-02-22 |\n",
       "\n"
      ],
      "text/plain": [
       "  nom    eda alt pes sex bday      \n",
       "1 Laura  25  167 65  2   1989-11-12\n",
       "2 Maria  21  160 57  2   1990-01-01\n",
       "3 Pedro  23  178 83  1   1996-02-29\n",
       "4 Josep  29  170 69  1   1981-03-02\n",
       "5 Martha 23  163 65  2   1984-12-31\n",
       "6 Jordi  19  185 90  1   1967-02-22"
      ]
     },
     "metadata": {},
     "output_type": "display_data"
    }
   ],
   "source": [
    "head(spss)"
   ]
  },
  {
   "cell_type": "markdown",
   "metadata": {},
   "source": [
    "## Archivos de STATA\n",
    "\n",
    "Otro tipo de archivo que podemos encontrar son los de STATA. Su extensión es `*.dat`. Para importarlo, necesitamos también la librería llamada foreign. Similar al caso de Texto y SPSS, para importar los datos escribimos"
   ]
  },
  {
   "cell_type": "code",
   "execution_count": 6,
   "metadata": {},
   "outputs": [],
   "source": [
    "stata <- read_stata(\"datosStata.dta\")"
   ]
  },
  {
   "cell_type": "code",
   "execution_count": 7,
   "metadata": {},
   "outputs": [
    {
     "data": {
      "text/html": [
       "<table class=\"dataframe\">\n",
       "<caption>A tibble: 6 × 5</caption>\n",
       "<thead>\n",
       "\t<tr><th scope=col>pers</th><th scope=col>postrem</th><th scope=col>treat</th><th scope=col>gender</th><th scope=col>priori</th></tr>\n",
       "\t<tr><th scope=col>&lt;dbl&gt;</th><th scope=col>&lt;dbl&gt;</th><th scope=col>&lt;dbl&gt;</th><th scope=col>&lt;dbl&gt;</th><th scope=col>&lt;dbl&gt;</th></tr>\n",
       "</thead>\n",
       "<tbody>\n",
       "\t<tr><td>1</td><td>2492.1555</td><td>0</td><td>0</td><td>0.19019672</td></tr>\n",
       "\t<tr><td>2</td><td>2871.1895</td><td>0</td><td>0</td><td>0.16711207</td></tr>\n",
       "\t<tr><td>3</td><td>2370.7405</td><td>0</td><td>0</td><td>0.15091535</td></tr>\n",
       "\t<tr><td>4</td><td>3726.5693</td><td>0</td><td>0</td><td>0.09395168</td></tr>\n",
       "\t<tr><td>5</td><td> 859.6276</td><td>0</td><td>0</td><td>0.05056068</td></tr>\n",
       "\t<tr><td>6</td><td>3705.2524</td><td>0</td><td>0</td><td>0.06708307</td></tr>\n",
       "</tbody>\n",
       "</table>\n"
      ],
      "text/latex": [
       "A tibble: 6 × 5\n",
       "\\begin{tabular}{lllll}\n",
       " pers & postrem & treat & gender & priori\\\\\n",
       " <dbl> & <dbl> & <dbl> & <dbl> & <dbl>\\\\\n",
       "\\hline\n",
       "\t 1 & 2492.1555 & 0 & 0 & 0.19019672\\\\\n",
       "\t 2 & 2871.1895 & 0 & 0 & 0.16711207\\\\\n",
       "\t 3 & 2370.7405 & 0 & 0 & 0.15091535\\\\\n",
       "\t 4 & 3726.5693 & 0 & 0 & 0.09395168\\\\\n",
       "\t 5 &  859.6276 & 0 & 0 & 0.05056068\\\\\n",
       "\t 6 & 3705.2524 & 0 & 0 & 0.06708307\\\\\n",
       "\\end{tabular}\n"
      ],
      "text/markdown": [
       "\n",
       "A tibble: 6 × 5\n",
       "\n",
       "| pers &lt;dbl&gt; | postrem &lt;dbl&gt; | treat &lt;dbl&gt; | gender &lt;dbl&gt; | priori &lt;dbl&gt; |\n",
       "|---|---|---|---|---|\n",
       "| 1 | 2492.1555 | 0 | 0 | 0.19019672 |\n",
       "| 2 | 2871.1895 | 0 | 0 | 0.16711207 |\n",
       "| 3 | 2370.7405 | 0 | 0 | 0.15091535 |\n",
       "| 4 | 3726.5693 | 0 | 0 | 0.09395168 |\n",
       "| 5 |  859.6276 | 0 | 0 | 0.05056068 |\n",
       "| 6 | 3705.2524 | 0 | 0 | 0.06708307 |\n",
       "\n"
      ],
      "text/plain": [
       "  pers postrem   treat gender priori    \n",
       "1 1    2492.1555 0     0      0.19019672\n",
       "2 2    2871.1895 0     0      0.16711207\n",
       "3 3    2370.7405 0     0      0.15091535\n",
       "4 4    3726.5693 0     0      0.09395168\n",
       "5 5     859.6276 0     0      0.05056068\n",
       "6 6    3705.2524 0     0      0.06708307"
      ]
     },
     "metadata": {},
     "output_type": "display_data"
    }
   ],
   "source": [
    "head(stata)"
   ]
  },
  {
   "cell_type": "markdown",
   "metadata": {},
   "source": [
    "## Archivos de EXCEL\n",
    "\n",
    "Finalmente, tenemos los archivos de EXCEL. Son los más comunes. Para importarlo, necesitamos de nuevo la librería `readxl`. Continuando con la dinámica de los casos anteriores escribimos"
   ]
  },
  {
   "cell_type": "code",
   "execution_count": 13,
   "metadata": {},
   "outputs": [
    {
     "data": {
      "text/html": [
       "<table class=\"dataframe\">\n",
       "<caption>A tibble: 6 × 6</caption>\n",
       "<thead>\n",
       "\t<tr><th scope=col>country</th><th scope=col>country isocode</th><th scope=col>year</th><th scope=col>POP</th><th scope=col>ppp</th><th scope=col>cgnp</th></tr>\n",
       "\t<tr><th scope=col>&lt;chr&gt;</th><th scope=col>&lt;chr&gt;</th><th scope=col>&lt;dbl&gt;</th><th scope=col>&lt;dbl&gt;</th><th scope=col>&lt;dbl&gt;</th><th scope=col>&lt;dbl&gt;</th></tr>\n",
       "</thead>\n",
       "<tbody>\n",
       "\t<tr><td>France</td><td>FRA</td><td>2000</td><td>61136.52</td><td>0.9140463</td><td>101.3730</td></tr>\n",
       "\t<tr><td>France</td><td>FRA</td><td>2001</td><td>61479.30</td><td>0.9103722</td><td>101.1844</td></tr>\n",
       "\t<tr><td>France</td><td>FRA</td><td>2002</td><td>61828.99</td><td>0.9105602</td><td>100.2736</td></tr>\n",
       "\t<tr><td>France</td><td>FRA</td><td>2003</td><td>62171.39</td><td>0.9079510</td><td>100.6268</td></tr>\n",
       "\t<tr><td>France</td><td>FRA</td><td>2004</td><td>62534.16</td><td>0.8972155</td><td>100.7924</td></tr>\n",
       "\t<tr><td>France</td><td>FRA</td><td>2005</td><td>62911.52</td><td>0.8858009</td><td>100.6463</td></tr>\n",
       "</tbody>\n",
       "</table>\n"
      ],
      "text/latex": [
       "A tibble: 6 × 6\n",
       "\\begin{tabular}{llllll}\n",
       " country & country isocode & year & POP & ppp & cgnp\\\\\n",
       " <chr> & <chr> & <dbl> & <dbl> & <dbl> & <dbl>\\\\\n",
       "\\hline\n",
       "\t France & FRA & 2000 & 61136.52 & 0.9140463 & 101.3730\\\\\n",
       "\t France & FRA & 2001 & 61479.30 & 0.9103722 & 101.1844\\\\\n",
       "\t France & FRA & 2002 & 61828.99 & 0.9105602 & 100.2736\\\\\n",
       "\t France & FRA & 2003 & 62171.39 & 0.9079510 & 100.6268\\\\\n",
       "\t France & FRA & 2004 & 62534.16 & 0.8972155 & 100.7924\\\\\n",
       "\t France & FRA & 2005 & 62911.52 & 0.8858009 & 100.6463\\\\\n",
       "\\end{tabular}\n"
      ],
      "text/markdown": [
       "\n",
       "A tibble: 6 × 6\n",
       "\n",
       "| country &lt;chr&gt; | country isocode &lt;chr&gt; | year &lt;dbl&gt; | POP &lt;dbl&gt; | ppp &lt;dbl&gt; | cgnp &lt;dbl&gt; |\n",
       "|---|---|---|---|---|---|\n",
       "| France | FRA | 2000 | 61136.52 | 0.9140463 | 101.3730 |\n",
       "| France | FRA | 2001 | 61479.30 | 0.9103722 | 101.1844 |\n",
       "| France | FRA | 2002 | 61828.99 | 0.9105602 | 100.2736 |\n",
       "| France | FRA | 2003 | 62171.39 | 0.9079510 | 100.6268 |\n",
       "| France | FRA | 2004 | 62534.16 | 0.8972155 | 100.7924 |\n",
       "| France | FRA | 2005 | 62911.52 | 0.8858009 | 100.6463 |\n",
       "\n"
      ],
      "text/plain": [
       "  country country isocode year POP      ppp       cgnp    \n",
       "1 France  FRA             2000 61136.52 0.9140463 101.3730\n",
       "2 France  FRA             2001 61479.30 0.9103722 101.1844\n",
       "3 France  FRA             2002 61828.99 0.9105602 100.2736\n",
       "4 France  FRA             2003 62171.39 0.9079510 100.6268\n",
       "5 France  FRA             2004 62534.16 0.8972155 100.7924\n",
       "6 France  FRA             2005 62911.52 0.8858009 100.6463"
      ]
     },
     "metadata": {},
     "output_type": "display_data"
    }
   ],
   "source": [
    "library(readxl)\n",
    "excel <- read_excel('datos.xlsx')\n",
    "head(excel)"
   ]
  },
  {
   "cell_type": "markdown",
   "metadata": {},
   "source": [
    "## Ejercicios\n",
    "\n",
    "Con los archivos suministrados mediante el enlace realice la actividad de importación\n",
    "\n",
    "Enlace: https://www.dropbox.com/sh/1gxpj6s6q1k9iqc/AACuejTbXPoLZ8iiYgF877joa?dl=0\n",
    "\n",
    "También se puede consultar: https://github.com/karlosmantilla/importacion"
   ]
  }
 ],
 "metadata": {
  "kernelspec": {
   "display_name": "R",
   "language": "R",
   "name": "ir"
  },
  "language_info": {
   "codemirror_mode": "r",
   "file_extension": ".r",
   "mimetype": "text/x-r-source",
   "name": "R",
   "pygments_lexer": "r",
   "version": "4.0.5"
  }
 },
 "nbformat": 4,
 "nbformat_minor": 2
}
