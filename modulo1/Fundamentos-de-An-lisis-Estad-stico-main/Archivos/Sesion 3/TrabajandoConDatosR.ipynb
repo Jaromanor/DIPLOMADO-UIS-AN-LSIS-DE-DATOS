{
 "cells": [
  {
   "cell_type": "markdown",
   "metadata": {
    "id": "cdvxPClz2awF"
   },
   "source": [
    "# Trabajando con Datos en el Entorno de Ejecución\n",
    "\n",
    "1. Necesitamos un archivo de configuración (podemos usar una copia del que hemos revisado)"
   ]
  },
  {
   "cell_type": "code",
   "execution_count": null,
   "metadata": {
    "id": "wPNPGtNx1lge"
   },
   "outputs": [],
   "source": [
    "version"
   ]
  },
  {
   "cell_type": "markdown",
   "metadata": {
    "id": "7ToZpqXV4dDB"
   },
   "source": [
    "2. Debemos identificar el directorio donde estamos trabajando para efectos de saber dónde vamos a guardar los archivos cuando los generemos:"
   ]
  },
  {
   "cell_type": "code",
   "execution_count": null,
   "metadata": {
    "id": "-yZgU3GV2m0Q"
   },
   "outputs": [],
   "source": [
    "getwd()"
   ]
  },
  {
   "cell_type": "markdown",
   "metadata": {
    "id": "wstNNAJU4pTG"
   },
   "source": [
    "## Uno primeros pasos antes de empezar a trabajar.\n",
    "\n",
    "1. Reconocemos el Entorno de ejecución (OK)\n",
    "2. Veamos cómo asignar objetos:"
   ]
  },
  {
   "cell_type": "code",
   "execution_count": null,
   "metadata": {
    "id": "kuNgd5f-48uf"
   },
   "outputs": [],
   "source": [
    "x<-rnorm(5)\n",
    "x"
   ]
  },
  {
   "cell_type": "code",
   "execution_count": null,
   "metadata": {
    "id": "0_ru9lou5AXU"
   },
   "outputs": [],
   "source": [
    "age <- c(1,3,5,2,11,9,3,9,12,3)\n",
    "weight <- c(4.4,5.3,7.2,5.2,8.5,7.3,6.0,10.4,10.2,6.1)"
   ]
  },
  {
   "cell_type": "code",
   "execution_count": null,
   "metadata": {
    "id": "w542LRRP5FxT"
   },
   "outputs": [],
   "source": [
    "mean(weight)"
   ]
  },
  {
   "cell_type": "code",
   "execution_count": null,
   "metadata": {
    "id": "mT-jl9Vj5NP6"
   },
   "outputs": [],
   "source": [
    "sd(weight)"
   ]
  },
  {
   "cell_type": "code",
   "execution_count": null,
   "metadata": {
    "id": "g2A05nS95PBF"
   },
   "outputs": [],
   "source": [
    "cor(age,weight)"
   ]
  },
  {
   "cell_type": "code",
   "execution_count": null,
   "metadata": {
    "id": "H083PwKX5Qx-"
   },
   "outputs": [],
   "source": [
    "plot(age,weight)"
   ]
  },
  {
   "cell_type": "markdown",
   "metadata": {
    "id": "o7ucqDX16_Mh"
   },
   "source": [
    "## Cómo pedir ayuda?"
   ]
  },
  {
   "cell_type": "code",
   "execution_count": null,
   "metadata": {
    "id": "YwewWUxY7CHY"
   },
   "outputs": [],
   "source": [
    "help.start()"
   ]
  },
  {
   "cell_type": "code",
   "execution_count": null,
   "metadata": {
    "id": "KA7zRfoL7Jaw"
   },
   "outputs": [],
   "source": [
    "help(\"foo\")"
   ]
  },
  {
   "cell_type": "code",
   "execution_count": null,
   "metadata": {
    "id": "6yal5fLr7MCc"
   },
   "outputs": [],
   "source": [
    "?foo"
   ]
  },
  {
   "cell_type": "code",
   "execution_count": null,
   "metadata": {
    "id": "5GndlLF37PeX"
   },
   "outputs": [],
   "source": [
    "help.search(\"foo\")"
   ]
  },
  {
   "cell_type": "code",
   "execution_count": null,
   "metadata": {
    "id": "yFUvOPos7TqW"
   },
   "outputs": [],
   "source": [
    "??foo"
   ]
  },
  {
   "cell_type": "code",
   "execution_count": null,
   "metadata": {
    "id": "ZiiuDh3I7VvL"
   },
   "outputs": [],
   "source": [
    "example(\"foo\")"
   ]
  },
  {
   "cell_type": "code",
   "execution_count": null,
   "metadata": {
    "id": "C2DfG4ws7aWj"
   },
   "outputs": [],
   "source": [
    "RSiteSearch(\"foo\")"
   ]
  },
  {
   "cell_type": "code",
   "execution_count": null,
   "metadata": {
    "id": "RGs1Buxg7ioe"
   },
   "outputs": [],
   "source": [
    "apropos(\"foo\", mode=\"function\")"
   ]
  },
  {
   "cell_type": "code",
   "execution_count": null,
   "metadata": {
    "id": "0J6DgBh77lc3"
   },
   "outputs": [],
   "source": [
    "data()"
   ]
  },
  {
   "cell_type": "code",
   "execution_count": null,
   "metadata": {
    "id": "AGd2_Jty8IM9"
   },
   "outputs": [],
   "source": [
    "vignette()"
   ]
  },
  {
   "cell_type": "code",
   "execution_count": null,
   "metadata": {
    "id": "H5x2M84P8LjI"
   },
   "outputs": [],
   "source": [
    "vignette(\"foo\")"
   ]
  },
  {
   "cell_type": "code",
   "execution_count": null,
   "metadata": {
    "id": "9eJEN-KZ8Ph2"
   },
   "outputs": [],
   "source": [
    "vignette('bit-demo')"
   ]
  },
  {
   "cell_type": "markdown",
   "metadata": {
    "id": "f4ETo_2286ZA"
   },
   "source": [
    "## Funciones para el espacio de trabajo"
   ]
  },
  {
   "cell_type": "code",
   "execution_count": null,
   "metadata": {
    "id": "cGo_4Rqy89YN"
   },
   "outputs": [],
   "source": [
    "getwd()"
   ]
  },
  {
   "cell_type": "code",
   "execution_count": null,
   "metadata": {
    "id": "Sxd8BP7K9Bla"
   },
   "outputs": [],
   "source": [
    "setwd(\"mydirectory\")"
   ]
  },
  {
   "cell_type": "code",
   "execution_count": null,
   "metadata": {
    "id": "Eh64wnfP9jZO"
   },
   "outputs": [],
   "source": [
    "setwd('Archivos')"
   ]
  },
  {
   "cell_type": "code",
   "execution_count": null,
   "metadata": {
    "id": "wqp3DH1t9nt9"
   },
   "outputs": [],
   "source": [
    "getwd()"
   ]
  },
  {
   "cell_type": "code",
   "execution_count": null,
   "metadata": {
    "id": "_algOM_P-A7c"
   },
   "outputs": [],
   "source": [
    "ls() # Listar objetos"
   ]
  },
  {
   "cell_type": "code",
   "execution_count": null,
   "metadata": {
    "id": "HOz945WP-ECD"
   },
   "outputs": [],
   "source": [
    "rm() # Remover objetos"
   ]
  },
  {
   "cell_type": "code",
   "execution_count": null,
   "metadata": {
    "id": "LCzkrSyx-NsT"
   },
   "outputs": [],
   "source": [
    "help(options)"
   ]
  },
  {
   "cell_type": "code",
   "execution_count": null,
   "metadata": {
    "id": "kuGV7mbr-4GZ"
   },
   "outputs": [],
   "source": [
    "options()"
   ]
  },
  {
   "cell_type": "code",
   "execution_count": null,
   "metadata": {
    "id": "UOJTqFZY-6vb"
   },
   "outputs": [],
   "source": [
    "history()"
   ]
  },
  {
   "cell_type": "code",
   "execution_count": null,
   "metadata": {
    "id": "hAV_RJ-q-9_w"
   },
   "outputs": [],
   "source": [
    "savehistory(\"myfile\")"
   ]
  },
  {
   "cell_type": "code",
   "execution_count": null,
   "metadata": {
    "id": "LLLOuQqn_XvT"
   },
   "outputs": [],
   "source": [
    "loadhistory(\"myfile\")"
   ]
  },
  {
   "cell_type": "code",
   "execution_count": null,
   "metadata": {
    "id": "T_xlxxFM_wcU"
   },
   "outputs": [],
   "source": [
    "save.image(\"myfile\")"
   ]
  },
  {
   "cell_type": "code",
   "execution_count": null,
   "metadata": {
    "id": "xEs7PPHM_y8Y"
   },
   "outputs": [],
   "source": [
    "save(objectlist, file=\"myfile\")"
   ]
  },
  {
   "cell_type": "code",
   "execution_count": null,
   "metadata": {
    "id": "0y04j1bN_077"
   },
   "outputs": [],
   "source": [
    "load(\"myfile\")"
   ]
  },
  {
   "cell_type": "markdown",
   "metadata": {
    "id": "404y8n0p_5cL"
   },
   "source": [
    "### Veamos un ejemplo sencillo:"
   ]
  },
  {
   "cell_type": "code",
   "execution_count": null,
   "metadata": {
    "id": "WSPu7Hzx_8a0"
   },
   "outputs": [],
   "source": [
    "getwd()"
   ]
  },
  {
   "cell_type": "code",
   "execution_count": null,
   "metadata": {
    "id": "PfcF_Yn8AGUn"
   },
   "outputs": [],
   "source": [
    "options()"
   ]
  },
  {
   "cell_type": "code",
   "execution_count": null,
   "metadata": {
    "id": "rvEeGA0FAMUM"
   },
   "outputs": [],
   "source": [
    "options(digits=3)"
   ]
  },
  {
   "cell_type": "code",
   "execution_count": null,
   "metadata": {
    "id": "kSaU5kR2AOOr"
   },
   "outputs": [],
   "source": [
    "x <- runif(20)\n",
    "summary(x)"
   ]
  },
  {
   "cell_type": "code",
   "execution_count": null,
   "metadata": {
    "id": "dCewmeYYAP1-"
   },
   "outputs": [],
   "source": [
    "hist(x)"
   ]
  },
  {
   "cell_type": "markdown",
   "metadata": {
    "id": "JYLhLFU0AS-4"
   },
   "source": [
    "## Trabajando con Paquetes o librerías\n",
    "\n",
    "Tenemos muchas opciones, hay librerías generales y librerías muy especializadas. Primero, veamos dónde se almacenan las librerías:"
   ]
  },
  {
   "cell_type": "code",
   "execution_count": null,
   "metadata": {
    "id": "pI3X8qR6Ahxb"
   },
   "outputs": [],
   "source": [
    ".libPaths()"
   ]
  },
  {
   "cell_type": "code",
   "execution_count": null,
   "metadata": {
    "id": "j818AMqkAtwe"
   },
   "outputs": [],
   "source": [
    "library()"
   ]
  },
  {
   "cell_type": "code",
   "execution_count": null,
   "metadata": {
    "id": "w8KOJO0pA8lc"
   },
   "outputs": [],
   "source": [
    "install.packages(\"gclus\")"
   ]
  },
  {
   "cell_type": "code",
   "execution_count": null,
   "metadata": {
    "id": "pkLwt0nwA_sH"
   },
   "outputs": [],
   "source": [
    "update.packages()"
   ]
  },
  {
   "cell_type": "code",
   "execution_count": null,
   "metadata": {
    "id": "OZGiIqBcBRd4"
   },
   "outputs": [],
   "source": [
    "print(installed.packages())"
   ]
  },
  {
   "cell_type": "code",
   "execution_count": null,
   "metadata": {
    "id": "_FI0ZzsRBT37"
   },
   "outputs": [],
   "source": [
    "help(package=\"package_name\")"
   ]
  },
  {
   "cell_type": "markdown",
   "metadata": {
    "id": "BrQnOM_bBuzU"
   },
   "source": [
    "### Veamos un ejemplo"
   ]
  },
  {
   "cell_type": "code",
   "execution_count": null,
   "metadata": {
    "id": "XD5npVNLBxQQ"
   },
   "outputs": [],
   "source": [
    "install.packages(\"vcd\")"
   ]
  },
  {
   "cell_type": "code",
   "execution_count": null,
   "metadata": {
    "id": "wyzmZjkDB00S"
   },
   "outputs": [],
   "source": [
    "help(package=\"vcd\")"
   ]
  },
  {
   "cell_type": "code",
   "execution_count": null,
   "metadata": {
    "id": "J4p1PjIDB2eD"
   },
   "outputs": [],
   "source": [
    "library(vcd)"
   ]
  },
  {
   "cell_type": "code",
   "execution_count": null,
   "metadata": {
    "id": "kr_424sbB4EY"
   },
   "outputs": [],
   "source": [
    "help(Arthritis)"
   ]
  },
  {
   "cell_type": "code",
   "execution_count": null,
   "metadata": {
    "id": "G8D4D536B5U9"
   },
   "outputs": [],
   "source": [
    "Arthritis"
   ]
  },
  {
   "cell_type": "code",
   "execution_count": null,
   "metadata": {
    "id": "-0GOL0lZB6zV"
   },
   "outputs": [],
   "source": [
    "example(Arthritis)"
   ]
  },
  {
   "cell_type": "markdown",
   "metadata": {
    "id": "8u89xXNXC6pU"
   },
   "source": [
    "## Tipos de Objetos\n",
    "\n",
    "Hay muchos tipos de objetos, veamos los más comunes y cómo crearlos"
   ]
  },
  {
   "cell_type": "code",
   "execution_count": null,
   "metadata": {
    "id": "-lJzoZvODDGv"
   },
   "outputs": [],
   "source": [
    "## Vectores:\n",
    "a <- c(1, 2, 5, 3, 6, -2, 4)\n",
    "b <- c(\"one\", \"two\", \"three\")\n",
    "c <- c(TRUE, TRUE, TRUE, FALSE, TRUE, FALSE)"
   ]
  },
  {
   "cell_type": "code",
   "execution_count": null,
   "metadata": {
    "id": "mfV1D__JDFvD"
   },
   "outputs": [],
   "source": [
    "a"
   ]
  },
  {
   "cell_type": "code",
   "execution_count": null,
   "metadata": {
    "id": "_6-JyV_2DGrD"
   },
   "outputs": [],
   "source": [
    "b"
   ]
  },
  {
   "cell_type": "code",
   "execution_count": null,
   "metadata": {
    "id": "XRiN4KGcDH5A"
   },
   "outputs": [],
   "source": [
    "c"
   ]
  },
  {
   "cell_type": "code",
   "execution_count": null,
   "metadata": {
    "id": "UPA92itHDJwf"
   },
   "outputs": [],
   "source": [
    "## Matrices:\n",
    "y <- matrix(1:20, nrow=5, ncol=4)\n",
    "y"
   ]
  },
  {
   "cell_type": "code",
   "execution_count": null,
   "metadata": {
    "id": "3k1UAXuKDyCh"
   },
   "outputs": [],
   "source": [
    "print(y)"
   ]
  },
  {
   "cell_type": "code",
   "execution_count": null,
   "metadata": {
    "id": "pf8jfEezDWQW"
   },
   "outputs": [],
   "source": [
    "cells <- c(1,26,24,68)\n",
    "rnames <- c(\"R1\", \"R2\")\n",
    "cnames <- c(\"C1\", \"C2\")"
   ]
  },
  {
   "cell_type": "code",
   "execution_count": null,
   "metadata": {
    "id": "_kAZq77EDYQf"
   },
   "outputs": [],
   "source": [
    "mymatrix <- matrix(cells, nrow=2, ncol=2, byrow=TRUE,\n",
    "dimnames=list(rnames, cnames))\n",
    "print(mymatrix)"
   ]
  },
  {
   "cell_type": "code",
   "execution_count": null,
   "metadata": {
    "id": "RLUyqbXLDeVS"
   },
   "outputs": [],
   "source": [
    "mymatrix <- matrix(cells, nrow=2, ncol=2, byrow=FALSE,\n",
    "dimnames=list(rnames, cnames))\n",
    "print(mymatrix)"
   ]
  },
  {
   "cell_type": "code",
   "execution_count": null,
   "metadata": {
    "id": "-d4Y_b1XDhiY"
   },
   "outputs": [],
   "source": [
    "## Arrays\n",
    "\n",
    "dim1 <- c(\"A1\", \"A2\")\n",
    "dim2 <- c(\"B1\", \"B2\", \"B3\")\n",
    "dim3 <- c(\"C1\", \"C2\", \"C3\", \"C4\")"
   ]
  },
  {
   "cell_type": "code",
   "execution_count": null,
   "metadata": {
    "id": "soeU3GdXDmx4"
   },
   "outputs": [],
   "source": [
    "z <- array(1:24, c(2, 3, 4), dimnames=list(dim1, dim2, dim3))\n",
    "print(z)"
   ]
  },
  {
   "cell_type": "code",
   "execution_count": null,
   "metadata": {
    "id": "ObTfhV-LD9ea"
   },
   "outputs": [],
   "source": [
    "## Data frames\n",
    "patientID <- c(1, 2, 3, 4)\n",
    "age <- c(25, 34, 28, 52)\n",
    "diabetes <- c(\"Type1\", \"Type2\", \"Type1\", \"Type1\")\n",
    "status <- c(\"Poor\", \"Improved\", \"Excellent\", \"Poor\")\n",
    "patientdata <- data.frame(patientID, age, diabetes, status)\n",
    "patientdata"
   ]
  },
  {
   "cell_type": "code",
   "execution_count": null,
   "metadata": {
    "id": "cfXsbvKPEDW9"
   },
   "outputs": [],
   "source": [
    "print(patientdata)"
   ]
  },
  {
   "cell_type": "markdown",
   "metadata": {
    "id": "XnGrG7jkEKJl"
   },
   "source": [
    "## Especificando Elementos"
   ]
  },
  {
   "cell_type": "code",
   "execution_count": null,
   "metadata": {
    "id": "b6k96AASEJs3"
   },
   "outputs": [],
   "source": [
    "patientdata[1:2]"
   ]
  },
  {
   "cell_type": "code",
   "execution_count": null,
   "metadata": {
    "id": "3f6F29OVEQ56"
   },
   "outputs": [],
   "source": [
    "patientdata[c(\"diabetes\", \"status\")]"
   ]
  },
  {
   "cell_type": "code",
   "execution_count": null,
   "metadata": {
    "id": "LktplzoDETHO"
   },
   "outputs": [],
   "source": [
    "patientdata$age"
   ]
  },
  {
   "cell_type": "code",
   "execution_count": null,
   "metadata": {
    "id": "vFUjfPL3EVkU"
   },
   "outputs": [],
   "source": [
    "table(patientdata$diabetes, patientdata$status)"
   ]
  },
  {
   "cell_type": "markdown",
   "metadata": {
    "id": "0NIfqE13EaS0"
   },
   "source": [
    "## Attach, detach, whit\n",
    "\n",
    "Algunas funciones prácticas"
   ]
  },
  {
   "cell_type": "code",
   "execution_count": null,
   "metadata": {
    "id": "SNB6TeBsEdR0"
   },
   "outputs": [],
   "source": [
    "data(mtcars)\n",
    "head(mtcars)"
   ]
  },
  {
   "cell_type": "code",
   "execution_count": null,
   "metadata": {
    "id": "Q49aWIZREnki"
   },
   "outputs": [],
   "source": [
    "summary(mtcars$mpg)"
   ]
  },
  {
   "cell_type": "code",
   "execution_count": null,
   "metadata": {
    "id": "Ky9PVj9HEpbx"
   },
   "outputs": [],
   "source": [
    "plot(mtcars$mpg, mtcars$disp)"
   ]
  },
  {
   "cell_type": "code",
   "execution_count": null,
   "metadata": {
    "id": "jSQf6TueEqYR"
   },
   "outputs": [],
   "source": [
    "plot(mtcars$mpg, mtcars$wt)"
   ]
  },
  {
   "cell_type": "code",
   "execution_count": null,
   "metadata": {
    "id": "jDK4wddcExtK"
   },
   "outputs": [],
   "source": [
    "summary(mpg)"
   ]
  },
  {
   "cell_type": "code",
   "execution_count": null,
   "metadata": {
    "id": "8CO6C0T8Es_e"
   },
   "outputs": [],
   "source": [
    "attach(mtcars)"
   ]
  },
  {
   "cell_type": "code",
   "execution_count": null,
   "metadata": {
    "id": "luyC8CCoEwWv"
   },
   "outputs": [],
   "source": [
    "summary(mpg)"
   ]
  },
  {
   "cell_type": "code",
   "execution_count": null,
   "metadata": {
    "id": "-ixeRBd1E0p2"
   },
   "outputs": [],
   "source": [
    "plot(mpg, disp)"
   ]
  },
  {
   "cell_type": "code",
   "execution_count": null,
   "metadata": {
    "id": "XqwzUcVdE2Xu"
   },
   "outputs": [],
   "source": [
    "plot(mpg, wt)"
   ]
  },
  {
   "cell_type": "code",
   "execution_count": null,
   "metadata": {
    "id": "E9nyMVfaE4Or"
   },
   "outputs": [],
   "source": [
    "detach(mtcars)"
   ]
  },
  {
   "cell_type": "code",
   "execution_count": null,
   "metadata": {
    "id": "EveS70UpE8S7"
   },
   "outputs": [],
   "source": [
    "summary(mpg)"
   ]
  },
  {
   "cell_type": "code",
   "execution_count": null,
   "metadata": {
    "id": "gWNcdGTtE_AV"
   },
   "outputs": [],
   "source": [
    "with(mtcars, {\n",
    "print(summary(mpg))\n",
    "plot(mpg, disp)\n",
    "plot(mpg, wt)\n",
    "})"
   ]
  },
  {
   "cell_type": "code",
   "execution_count": null,
   "metadata": {
    "id": "GOOeFNzYFEnd"
   },
   "outputs": [],
   "source": [
    "with(mtcars, {\n",
    "stats <- summary(mpg)\n",
    "stats\n",
    "})"
   ]
  },
  {
   "cell_type": "code",
   "execution_count": null,
   "metadata": {
    "id": "Nm0hhxRUFeTS"
   },
   "outputs": [],
   "source": [
    "stats"
   ]
  },
  {
   "cell_type": "code",
   "execution_count": null,
   "metadata": {
    "id": "KHOHpXr_FVGJ"
   },
   "outputs": [],
   "source": [
    "with(mtcars, {\n",
    "nokeepstats <- summary(mpg)\n",
    "keepstats <<- summary(mpg)\n",
    "})"
   ]
  },
  {
   "cell_type": "code",
   "execution_count": null,
   "metadata": {
    "id": "xhlMYeZoFYtf"
   },
   "outputs": [],
   "source": [
    "nokeepstats"
   ]
  },
  {
   "cell_type": "code",
   "execution_count": null,
   "metadata": {
    "id": "w6OxMWPEFa2G"
   },
   "outputs": [],
   "source": [
    "keepstats"
   ]
  },
  {
   "cell_type": "markdown",
   "metadata": {
    "id": "thcHVHsGFjRK"
   },
   "source": [
    "## Factores\n",
    "\n",
    "Se trata de otro tipo de objetos que describen variables cualitativas"
   ]
  },
  {
   "cell_type": "code",
   "execution_count": null,
   "metadata": {
    "id": "ueZc5QhKFhnS"
   },
   "outputs": [],
   "source": [
    "diabetes <- c(\"Type1\", \"Type2\", \"Type1\", \"Type1\")\n",
    "status <- c(\"Poor\", \"Improved\", \"Excellent\", \"Poor\")\n",
    "status <- factor(status, ordered=TRUE)\n",
    "status <- factor(status, order=TRUE,levels=c(\"Poor\", \"Improved\", \"Excellent\"))\n",
    "sex <- factor(c(1,2,2,1), levels=c(1, 2), labels=c(\"Male\", \"Female\"))"
   ]
  },
  {
   "cell_type": "code",
   "execution_count": null,
   "metadata": {
    "id": "V7XR88BmFy2v"
   },
   "outputs": [],
   "source": [
    "diabetes"
   ]
  },
  {
   "cell_type": "code",
   "execution_count": null,
   "metadata": {
    "id": "fm7d5wg4F5nO"
   },
   "outputs": [],
   "source": [
    "# Ejemplo:\n",
    "patientID <- c(1, 2, 3, 4)\n",
    "age <- c(25, 34, 28, 52)\n",
    "diabetes <- c(\"Type1\", \"Type2\", \"Type1\", \"Type1\")\n",
    "status <- c(\"Poor\", \"Improved\", \"Excellent\", \"Poor\")\n",
    "diabetes <- factor(diabetes)\n",
    "status <- factor(status, order=TRUE)\n",
    "patientdata <- data.frame(patientID, age, diabetes, status)"
   ]
  },
  {
   "cell_type": "code",
   "execution_count": null,
   "metadata": {
    "id": "gmGRFb7_F-p-"
   },
   "outputs": [],
   "source": [
    "str(patientdata)"
   ]
  },
  {
   "cell_type": "code",
   "execution_count": null,
   "metadata": {
    "id": "zTRmpi8kF_7P"
   },
   "outputs": [],
   "source": [
    "summary(patientdata)"
   ]
  },
  {
   "cell_type": "code",
   "execution_count": null,
   "metadata": {
    "id": "ERxITotVGCEN"
   },
   "outputs": [],
   "source": [
    "## Listas\n",
    "g <- \"My First List\"\n",
    "h <- c(25, 26, 18, 39)\n",
    "j <- matrix(1:10, nrow=5)\n",
    "k <- c(\"one\", \"two\", \"three\")\n",
    "mylist <- list(title=g, ages=h, j, k)"
   ]
  },
  {
   "cell_type": "code",
   "execution_count": null,
   "metadata": {
    "id": "_0Ak5chSGD1c"
   },
   "outputs": [],
   "source": [
    "print(mylist)"
   ]
  },
  {
   "cell_type": "markdown",
   "metadata": {
    "id": "3G-A0vdGGNa_"
   },
   "source": [
    "# Importación de datos\n",
    "\n",
    "## LEER ARCHIVOS ASCII"
   ]
  },
  {
   "cell_type": "code",
   "execution_count": null,
   "metadata": {
    "id": "jjBqKo1ZGToj"
   },
   "outputs": [],
   "source": [
    "## TIPO 1: solo datos\n",
    "Datos <- read.table(file.choose(), skip = 0, header = FALSE, sep =',')"
   ]
  },
  {
   "cell_type": "code",
   "execution_count": null,
   "metadata": {
    "id": "eb_l3_0xGVv5"
   },
   "outputs": [],
   "source": [
    "Datos <- read.table('ejemplo-datos.txt', skip = 0, header = FALSE, sep =',')\n",
    "head(Datos)"
   ]
  },
  {
   "cell_type": "code",
   "execution_count": null,
   "metadata": {
    "id": "UtsqAdolG_5H"
   },
   "outputs": [],
   "source": [
    "# TIPO 2: encabezado una linea + datos\n",
    "Datos <- read.table('ejemplo-datos-header.txt', skip = 0, header = TRUE, sep =',')\n",
    "head(Datos)"
   ]
  },
  {
   "cell_type": "code",
   "execution_count": null,
   "metadata": {
    "id": "2Mzm-UNyHOWB"
   },
   "outputs": [],
   "source": [
    "# TIPO 3: encabezado raro + datos\n",
    "Datos <- read.table('ejemplo-datos-header-skip.txt', skip = 8, header = TRUE, sep =',')\n",
    "head(Datos)"
   ]
  },
  {
   "cell_type": "code",
   "execution_count": null,
   "metadata": {
    "id": "veesf1T6HdQG"
   },
   "outputs": [],
   "source": [
    "# LEER ARCHIVOS EXCEL\n",
    "## install.packages(\"readxl\") ## Si no está instalado\n",
    "library(\"readxl\")"
   ]
  },
  {
   "cell_type": "code",
   "execution_count": null,
   "metadata": {
    "id": "20wiozNlIVcM"
   },
   "outputs": [],
   "source": [
    "Datos <- read_excel('datos.xlsx', sheet = 1)\n",
    "head(Datos)"
   ]
  },
  {
   "cell_type": "code",
   "execution_count": null,
   "metadata": {
    "id": "jYi_wS6oImKx"
   },
   "outputs": [],
   "source": [
    "# Directamente de excel\n",
    "install.packages('XLConnect')\n",
    "library(XLConnect)\n",
    "wb <- loadWorkbook(\"Libro1.xls\", create = TRUE)\n",
    "head(wb) # ?Funciona correctamente?"
   ]
  },
  {
   "cell_type": "code",
   "execution_count": null,
   "metadata": {
    "id": "cAcc7FRDI2PR"
   },
   "outputs": [],
   "source": [
    "excel <- readWorksheet(wb, sheet = \"Hoja1\")\n",
    "head(excel) # ?Funciona correctamente?"
   ]
  },
  {
   "cell_type": "code",
   "execution_count": null,
   "metadata": {
    "id": "LRs1YBhrI56g"
   },
   "outputs": [],
   "source": [
    "# en un solo paso\n",
    "excel2 <- readWorksheet(loadWorkbook(\"Libro1.xls\", create = TRUE), sheet = \"Hoja1\")\n",
    "head(excel2) # ?Funciona correctamente?"
   ]
  },
  {
   "cell_type": "code",
   "execution_count": null,
   "metadata": {
    "id": "EcdI_9dPI-LS"
   },
   "outputs": [],
   "source": [
    "## Importar archivos CSV\n",
    "datos.csv <- read.csv(\"datos.csv\", header = T)\n",
    "head(datos.csv)"
   ]
  },
  {
   "cell_type": "code",
   "execution_count": null,
   "metadata": {
    "id": "wGy-QxIEJEkg"
   },
   "outputs": [],
   "source": [
    "print(sapply(datos.csv, class))  # esto es para conocer la clase de cada variable"
   ]
  },
  {
   "cell_type": "code",
   "execution_count": null,
   "metadata": {
    "id": "x41fP_ryJJy4"
   },
   "outputs": [],
   "source": [
    "summary(datos.csv)"
   ]
  },
  {
   "cell_type": "code",
   "execution_count": null,
   "metadata": {
    "id": "_4mkVDW0JQ5e"
   },
   "outputs": [],
   "source": [
    "## Importar datos txt con tabulaci?n\n",
    "datos.txt <- read.delim(\"datos.txt\", header = TRUE, sep = \"\\t\")\n",
    "head(datos.txt)"
   ]
  },
  {
   "cell_type": "code",
   "execution_count": null,
   "metadata": {
    "id": "zOvze2BYJTqe"
   },
   "outputs": [],
   "source": [
    "datos.txt2 <- read.table(\"datos.txt\", header = TRUE, sep = \"\\t\")\n",
    "head(datos.txt2)"
   ]
  },
  {
   "cell_type": "code",
   "execution_count": null,
   "metadata": {
    "id": "fiF30DSxJWU5"
   },
   "outputs": [],
   "source": [
    "# Desde una web:\n",
    "Web <- \"http://people.cst.cmich.edu/lee1c/spss/V16_materials/DataSets_v16/Diseaseoutbreak.txt\"\n",
    "datosWeb1 <- read.table(Web)  # o puede escribirse la direcci?n directamente dentro\n",
    "head(datosWeb1)"
   ]
  },
  {
   "cell_type": "code",
   "execution_count": null,
   "metadata": {
    "id": "YnFlk0-XJfvq"
   },
   "outputs": [],
   "source": [
    "# Otra alternativa:\n",
    "Web <- \"http://people.cst.cmich.edu/lee1c/spss/V16_materials/DataSets_v16/Diseaseoutbreak.txt\"\n",
    "nombres <- c(\"ID\", \"edad\", \"hijos\", \"coches\", \"yates\", \"motos\")\n",
    "datosWeb2 <- read.table(Web, col.names = nombres)\n",
    "head(datosWeb2)  # un vistazo para ver c?mo resulta"
   ]
  },
  {
   "cell_type": "code",
   "execution_count": null,
   "metadata": {
    "id": "uy03NwrnJhH7"
   },
   "outputs": [],
   "source": [
    "## Desde SPSS:\n",
    "library(foreign)\n",
    "empleados1 <- read.spss(\"DatosSPSS.sav\", to.data.frame = TRUE)\n",
    "dim(empleados1)"
   ]
  },
  {
   "cell_type": "code",
   "execution_count": null,
   "metadata": {
    "id": "a-y40fN0Jo__"
   },
   "outputs": [],
   "source": [
    "head(empleados1)"
   ]
  },
  {
   "cell_type": "code",
   "execution_count": null,
   "metadata": {
    "id": "f_dbiqcCJwkL"
   },
   "outputs": [],
   "source": [
    "# Otro ejemplo:\n",
    "dspss <- read.spss(\"DatosSPSS.sav\", to.data.frame = T)\n",
    "dspss  # problema: variable dbay es una fecha y no sale como formato fecha :("
   ]
  },
  {
   "cell_type": "code",
   "execution_count": null,
   "metadata": {
    "id": "tT0ivYBsJ-It"
   },
   "outputs": [],
   "source": [
    "print(sapply(dspss, class))"
   ]
  },
  {
   "cell_type": "code",
   "execution_count": null,
   "metadata": {
    "id": "mygUCbeYJ4RL"
   },
   "outputs": [],
   "source": [
    "# se puede arreglar:\n",
    "dspss <- transform(dspss, bday = as.Date(ISOdate(1582, 10, 14) + dspss$bday))\n",
    "dspss"
   ]
  },
  {
   "cell_type": "code",
   "execution_count": null,
   "metadata": {
    "id": "oqr6TYAsKBsa"
   },
   "outputs": [],
   "source": [
    "## Desde Stata:\n",
    "stata <- read.dta(\"datosStata.dta\")\n",
    "head(stata)"
   ]
  },
  {
   "cell_type": "code",
   "execution_count": null,
   "metadata": {
    "id": "d4qRXjpsKFdV"
   },
   "outputs": [],
   "source": [
    "print(sapply(stata, class))"
   ]
  }
 ],
 "metadata": {
  "colab": {
   "provenance": []
  },
  "kernelspec": {
   "display_name": "R",
   "language": "R",
   "name": "ir"
  },
  "language_info": {
   "codemirror_mode": "r",
   "file_extension": ".r",
   "mimetype": "text/x-r-source",
   "name": "R",
   "pygments_lexer": "r",
   "version": "4.2.2"
  }
 },
 "nbformat": 4,
 "nbformat_minor": 1
}
