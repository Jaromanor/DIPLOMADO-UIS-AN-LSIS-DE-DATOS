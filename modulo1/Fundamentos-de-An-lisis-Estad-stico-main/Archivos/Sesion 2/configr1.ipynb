{
  "nbformat": 4,
  "nbformat_minor": 0,
  "metadata": {
    "colab": {
      "provenance": []
    },
    "kernelspec": {
      "name": "ir",
      "display_name": "R"
    },
    "language_info": {
      "name": "R"
    }
  },
  "cells": [
    {
      "cell_type": "code",
      "execution_count": 1,
      "metadata": {
        "colab": {
          "base_uri": "https://localhost:8080/",
          "height": 277
        },
        "id": "wPNPGtNx1lge",
        "outputId": "91fd7f31-63e8-4b26-8fe5-02cf52ead8c7"
      },
      "outputs": [
        {
          "output_type": "display_data",
          "data": {
            "text/plain": [
              "               _                                          \n",
              "platform       x86_64-pc-linux-gnu                        \n",
              "arch           x86_64                                     \n",
              "os             linux-gnu                                  \n",
              "system         x86_64, linux-gnu                          \n",
              "status         Patched                                    \n",
              "major          4                                          \n",
              "minor          2.2                                        \n",
              "year           2022                                       \n",
              "month          11                                         \n",
              "day            10                                         \n",
              "svn rev        83330                                      \n",
              "language       R                                          \n",
              "version.string R version 4.2.2 Patched (2022-11-10 r83330)\n",
              "nickname       Innocent and Trusting                      "
            ]
          },
          "metadata": {}
        }
      ],
      "source": [
        "version"
      ]
    }
  ]
}